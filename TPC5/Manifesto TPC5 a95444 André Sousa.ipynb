{
 "cells": [
  {
   "cell_type": "markdown",
   "id": "10155c0a",
   "metadata": {},
   "source": [
    "Keyname: TPC5"
   ]
  },
  {
   "cell_type": "markdown",
   "id": "2afcc280",
   "metadata": {},
   "source": [
    "Título: Aplicação Frações"
   ]
  },
  {
   "cell_type": "markdown",
   "id": "04bd1db3",
   "metadata": {},
   "source": [
    " Data de início: 2020/11/13"
   ]
  },
  {
   "cell_type": "markdown",
   "id": "58f28b01",
   "metadata": {},
   "source": [
    "Data de finalização: 2020/11/17"
   ]
  },
  {
   "cell_type": "markdown",
   "id": "f98c1af0",
   "metadata": {},
   "source": [
    "Supervisor: <a href=\"https://algoritmi.uminho.pt/user/jose-carlos-leite-ramalho/\" target=\"_blank\">José Carlos Leite Ramalho</a>"
   ]
  },
  {
   "cell_type": "markdown",
   "id": "717c761d",
   "metadata": {},
   "source": [
    "Autor: André Nuno Ribeiro de Sousa"
   ]
  },
  {
   "cell_type": "markdown",
   "id": "d95ff750",
   "metadata": {},
   "source": [
    "Resumo: O objetivo deste trabalho foi criar uma aplicação que permitisse manipular um polinómio, da forma que o utilizador entender, podendo calcular a derivada de um polinómio, simplificar o polinómio entre outras diversas operações"
   ]
  }
 ],
 "metadata": {
  "kernelspec": {
   "display_name": "Python 3",
   "language": "python",
   "name": "python3"
  },
  "language_info": {
   "codemirror_mode": {
    "name": "ipython",
    "version": 3
   },
   "file_extension": ".py",
   "mimetype": "text/x-python",
   "name": "python",
   "nbconvert_exporter": "python",
   "pygments_lexer": "ipython3",
   "version": "3.8.8"
  }
 },
 "nbformat": 4,
 "nbformat_minor": 5
}
