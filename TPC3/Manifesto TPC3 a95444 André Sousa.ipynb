{
 "cells": [
  {
   "cell_type": "markdown",
   "id": "d36f4404",
   "metadata": {},
   "source": [
    "Keyname: TPC3"
   ]
  },
  {
   "cell_type": "markdown",
   "id": "69e822ca",
   "metadata": {},
   "source": [
    "Título: Menu, BubbleSort"
   ]
  },
  {
   "cell_type": "markdown",
   "id": "c8c848a4",
   "metadata": {},
   "source": [
    " Data de início: 2020/10/23"
   ]
  },
  {
   "cell_type": "markdown",
   "id": "99e7e46a",
   "metadata": {},
   "source": [
    " Data de finalização: 2020/10/26"
   ]
  },
  {
   "cell_type": "markdown",
   "id": "3978cd0f",
   "metadata": {},
   "source": [
    "Supervisor: <a href=\"https://algoritmi.uminho.pt/user/jose-carlos-leite-ramalho/\" target=\"_blank\">José Carlos Leite Ramalho</a>"
   ]
  },
  {
   "cell_type": "markdown",
   "id": "d4ce4849",
   "metadata": {},
   "source": [
    "Autor: André Nuno Ribeiro de Sousa"
   ]
  },
  {
   "cell_type": "markdown",
   "id": "a64abdae",
   "metadata": {},
   "source": [
    "Resumo: O objetivo deste trabalho foi criar um menu com o objetivo de facilitar o acesso às diversas funções criadas, entre as quais se encontra a função \"BubbleSort\", funções de manipulação de listas entre outras em liguagem Python.\n",
    "A função \"BubbleSort\" organiza uma lista em ordem crescente atraves do seguinte mecanismo: Compara-se um valor da lista com o seguinte valor na lista, e caso o primeiro destes seja superior ao próximo eles irão trocar de posição, se isto não se verificar, as suas posições não são alteradas. Este processo irá decorrer até a lista se encontrar toda ordenada."
   ]
  }
 ],
 "metadata": {
  "kernelspec": {
   "display_name": "Python 3",
   "language": "python",
   "name": "python3"
  },
  "language_info": {
   "codemirror_mode": {
    "name": "ipython",
    "version": 3
   },
   "file_extension": ".py",
   "mimetype": "text/x-python",
   "name": "python",
   "nbconvert_exporter": "python",
   "pygments_lexer": "ipython3",
   "version": "3.8.8"
  }
 },
 "nbformat": 4,
 "nbformat_minor": 5
}
