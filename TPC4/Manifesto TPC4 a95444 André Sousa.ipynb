{
 "cells": [
  {
   "cell_type": "markdown",
   "id": "1e164c08",
   "metadata": {},
   "source": [
    "Keyname: TPC3"
   ]
  },
  {
   "cell_type": "markdown",
   "id": "d7b49325",
   "metadata": {},
   "source": [
    "Título: Aplicação Frações"
   ]
  },
  {
   "cell_type": "markdown",
   "id": "d30b9400",
   "metadata": {},
   "source": [
    " Data de início: 2020/11/6"
   ]
  },
  {
   "cell_type": "markdown",
   "id": "22327260",
   "metadata": {},
   "source": [
    " Data de início: 2020/11/10"
   ]
  },
  {
   "cell_type": "markdown",
   "id": "1eecc150",
   "metadata": {},
   "source": [
    "Supervisor: <a href=\"https://algoritmi.uminho.pt/user/jose-carlos-leite-ramalho/\" target=\"_blank\">José Carlos Leite Ramalho</a>"
   ]
  },
  {
   "cell_type": "markdown",
   "id": "1c704946",
   "metadata": {},
   "source": [
    "Autor: André Nuno Ribeiro de Sousa"
   ]
  },
  {
   "cell_type": "markdown",
   "id": "3e39b2a6",
   "metadata": {},
   "source": [
    "Resumo: O objetivo deste trabalho foi criar uma aplicação que permitisse pegar numa Lista de frações, tanto criada automaticamente como manualmente, e realizar operações aritméticas com as frações."
   ]
  }
 ],
 "metadata": {
  "kernelspec": {
   "display_name": "Python 3",
   "language": "python",
   "name": "python3"
  },
  "language_info": {
   "codemirror_mode": {
    "name": "ipython",
    "version": 3
   },
   "file_extension": ".py",
   "mimetype": "text/x-python",
   "name": "python",
   "nbconvert_exporter": "python",
   "pygments_lexer": "ipython3",
   "version": "3.8.8"
  }
 },
 "nbformat": 4,
 "nbformat_minor": 5
}
