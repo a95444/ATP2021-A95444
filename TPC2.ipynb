{
 "cells": [
  {
   "cell_type": "markdown",
   "id": "fc86e66c",
   "metadata": {},
   "source": [
    "# JOGO ADIVINHA O NÚMERO"
   ]
  },
  {
   "cell_type": "markdown",
   "id": "e0e3461a",
   "metadata": {},
   "source": [
    "Keyname: TPC2"
   ]
  },
  {
   "cell_type": "markdown",
   "id": "ea3d3fe3",
   "metadata": {},
   "source": [
    "Título: Adivinha o número"
   ]
  },
  {
   "cell_type": "markdown",
   "id": "b812dca5",
   "metadata": {},
   "source": [
    " Data de início: 2020/10/14"
   ]
  },
  {
   "cell_type": "markdown",
   "id": "f913cd76",
   "metadata": {},
   "source": [
    "Data de finalização: 2020/10/21"
   ]
  },
  {
   "cell_type": "markdown",
   "id": "baff17e6",
   "metadata": {},
   "source": [
    "Supervisor: <a href=\"https://algoritmi.uminho.pt/user/jose-carlos-leite-ramalho/\" target=\"_blank\">José Carlos Leite Ramalho</a>"
   ]
  },
  {
   "cell_type": "markdown",
   "id": "01193081",
   "metadata": {},
   "source": [
    "Autor: André Nuno Ribeiro de Sousa"
   ]
  },
  {
   "cell_type": "markdown",
   "id": "4ed9d876",
   "metadata": {},
   "source": [
    "Resumo: O objetivo do jogo é o computador conseguir encontrar um número escolhido pelo utilizador entre 1 e 100, no menor número de passos possível."
   ]
  },
  {
   "cell_type": "code",
   "execution_count": 2,
   "id": "7333385b",
   "metadata": {},
   "outputs": [
    {
     "name": "stdout",
     "output_type": "stream",
     "text": [
      "O valor é menor, é igual ou é maior do que 50: menor\n",
      "O valor é menor, é igual ou é maior do que 25: menor\n",
      "O valor é menor, é igual ou é maior do que 12: menor\n",
      "O valor é menor, é igual ou é maior do que 6: maior\n",
      "O valor é menor, é igual ou é maior do que 9: menor\n",
      "O valor é menor, é igual ou é maior do que 7: maior\n",
      "O seu número é o 8\n",
      "Este processo demorou:  7  passos.\n"
     ]
    }
   ],
   "source": [
    "def procurabin(sup, inf):\n",
    "    corretor=int(inf)+((int(sup)-int(inf))//2)\n",
    "    if(corretor>=0):\n",
    "        return corretor\n",
    "    else:\n",
    "        return 0\n",
    "def leitor(sup, inf):\n",
    "    a=procurabin(sup, inf)  \n",
    "    l=input(\"O valor é menor, é igual ou é maior do que \"+ str(a)+\": \")\n",
    "    return l\n",
    "def run():\n",
    "    r=1\n",
    "    inf=0 #50\n",
    "    sup=101\n",
    "    contador=0\n",
    "    while(r):\n",
    "        contador+=1\n",
    "        indice=int(sup)-int(inf)\n",
    "       # print(str(indice)+\"indice\")\n",
    "       # print(str(sup)+\"sup\")\n",
    "       # print(str(inf)+\"inf\")\n",
    "        if(indice==2):\n",
    "            print(\"O seu número é o\", procurabin(sup, inf))\n",
    "            r=0\n",
    "            print(\"Este processo demorou: \", contador, \" passos.\")\n",
    "        else:\n",
    "            comp=leitor(sup,inf)\n",
    "            if(comp.upper()==\"MAIOR\"):\n",
    "                inf=procurabin(sup, inf)\n",
    "            elif(comp.upper()==\"MENOR\"):\n",
    "                if(procurabin(sup, inf)==1):\n",
    "                    print(\"Operação impossível\")   \n",
    "                    contador-=1\n",
    "                else:\n",
    "                    sup=procurabin(sup, inf)\n",
    "            elif(comp.upper()==\"IGUAL\"):\n",
    "                r=0\n",
    "                print(\"Este processo demorou: \", contador-1, \" passos.\")\n",
    "            else:\n",
    "                contador-=1\n",
    "run()"
   ]
  },
  {
   "cell_type": "code",
   "execution_count": null,
   "id": "36ae45aa",
   "metadata": {},
   "outputs": [],
   "source": []
  }
 ],
 "metadata": {
  "kernelspec": {
   "display_name": "Python 3",
   "language": "python",
   "name": "python3"
  },
  "language_info": {
   "codemirror_mode": {
    "name": "ipython",
    "version": 3
   },
   "file_extension": ".py",
   "mimetype": "text/x-python",
   "name": "python",
   "nbconvert_exporter": "python",
   "pygments_lexer": "ipython3",
   "version": "3.8.8"
  }
 },
 "nbformat": 4,
 "nbformat_minor": 5
}
