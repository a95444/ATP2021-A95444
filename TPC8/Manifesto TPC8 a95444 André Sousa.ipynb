{
 "cells": [
  {
   "cell_type": "markdown",
   "id": "703783a1",
   "metadata": {},
   "source": [
    "* Keyname: TPC8\n",
    "* Título: Aplicação APP,\n",
    "* Data de início: 2021/11/20,\n",
    "* Data de finalização: 2021/11/24,\n",
    "* Supervisor: José Carlos Ramalho\n",
    "* Autor: André Nuno Ribeiro de Sousa,\n",
    "* Resumo: O objetivo deste trabalho foi criar uma aplicação que permitisse criar uma aplicação externa para poder manipular a base de dados de exames médicos\n",
    "   "
   ]
  }
 ],
 "metadata": {
  "kernelspec": {
   "display_name": "Python 3",
   "language": "python",
   "name": "python3"
  },
  "language_info": {
   "codemirror_mode": {
    "name": "ipython",
    "version": 3
   },
   "file_extension": ".py",
   "mimetype": "text/x-python",
   "name": "python",
   "nbconvert_exporter": "python",
   "pygments_lexer": "ipython3",
   "version": "3.8.8"
  }
 },
 "nbformat": 4,
 "nbformat_minor": 5
}
