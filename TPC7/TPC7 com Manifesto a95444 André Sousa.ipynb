{
 "cells": [
  {
   "cell_type": "markdown",
   "metadata": {},
   "source": [
    "# TPC7\n",
    "\n",
    "__identificador__: TPC7;\n",
    "\n",
    "__título__: Processamento de datasets;\n",
    "\n",
    "__data início__: 2021-11-28;\n",
    "\n",
    "__data de finalização__: 2021-12-01;\n",
    "\n",
    "__supervisor__: José Carlos Ramalho;\n",
    "\n",
    "__autor__: André Nuno Ribeiro de Sousa\n",
    "\n",
    "__resumo__: Aplicação que trata uma base de dados, com o intuito de se poder organizar a sua informação tornando assim mais fácil e prática o seu acesso."
   ]
  },
  {
   "cell_type": "markdown",
   "metadata": {},
   "source": [
    "## Dataset\n",
    "\n",
    "Para a resolução dos exercícios desta ficha, descarrega o dataset de alunos do site da UC.\n",
    "\n",
    "### Estrutura do dataset\n",
    "O dataset tem a seguinte estrutura:\n",
    "\n",
    "```\n",
    "id_aluno,nome,curso,tpc1,tpc2,tpc3,tpc4\n",
    "\"a1\",\"Aysha Melanie Gilberto\",\"LEI\",12,8,19,8\n",
    "\"a2\",\"Igor André Cantanhede\",\"ENGFIS\",12,16,18,20\n",
    "\"a3\",\"Laurénio Narciso\",\"ENGFIS\",8,14,15,14\n",
    "\"a4\",\"Jasnoor Casegas\",\"LCC\",14,20,17,11\n",
    "\"a5\",\"Tawseef Rebouças\",\"ENGBIOM\",13,14,13,17\n",
    "\"a6\",\"Eryk Clementino\",\"LEI\",10,19,11,14\n",
    "...\n",
    "```"
   ]
  },
  {
   "cell_type": "markdown",
   "metadata": {},
   "source": [
    "## Leitura (exercício 1)\n",
    "\n",
    "Depois de pensares num modelo adequado especifica a função que lê o ficheiro e povoa esse modelo."
   ]
  },
  {
   "cell_type": "code",
   "execution_count": 2,
   "metadata": {},
   "outputs": [],
   "source": [
    "# Descreve em texto o teu modelo\n",
    "#BDAlunos=[Aluno]\n",
    "# Aluno = {id: \"...\", nome: \"...\"}\n",
    "# Leitura/carregamento da informação do ficheiro\n",
    "\n",
    "def lerDataset(fnome):\n",
    "    bd=[]\n",
    "    f = open(fnome, encoding='utf-8')\n",
    "    f.readline() #faz com que o \"apontador\" leia a 1.ª linha e assim o apontador avança para a 2.ª linha\n",
    "    \n",
    "    for linha in f: #ler uma linha de cada vez\n",
    "        novaLinha = linha.replace(\"\\n\", \"\")\n",
    "        campos = novaLinha.split(\",\") #divide a BD em campos\n",
    "        aluno = {}\n",
    "        aluno['id'] = campos[0]\n",
    "        aluno['nome'] = campos[1]\n",
    "        aluno['curso'] = campos[2]\n",
    "        listaTPC=[]\n",
    "        for tpc in campos[3:]:\n",
    "            listaTPC.append(int(tpc))\n",
    "        aluno['tpc'] = listaTPC\n",
    "        bd.append(aluno)\n",
    "    return bd\n",
    "    #o dicionário permite ter uma base de dados onde cada linha tem um número de variável de campos"
   ]
  },
  {
   "cell_type": "code",
   "execution_count": 24,
   "metadata": {},
   "outputs": [],
   "source": [
    "BDalunos = lerDataset(\"alunos.csv\")\n",
    "print(BDalunos)"
   ]
  },
  {
   "cell_type": "code",
   "execution_count": 4,
   "metadata": {},
   "outputs": [
    {
     "name": "stdout",
     "output_type": "stream",
     "text": [
      "C:\\Users\\andre\\Algoritmos\n"
     ]
    }
   ],
   "source": [
    "import os\n",
    "print(os.getcwd())"
   ]
  },
  {
   "cell_type": "markdown",
   "metadata": {},
   "source": [
    "## Listagem (exercício 2)\n",
    "\n",
    "Especifica uma função que faça a listagem no monitor dos vários registos de informação.\n",
    "Tenta dar a forma duma tabela em que as colunas têm todas a mesma dimensão."
   ]
  },
  {
   "cell_type": "code",
   "execution_count": 5,
   "metadata": {},
   "outputs": [],
   "source": [
    "# Listagem da informação\n",
    "def listarDataset(bd):\n",
    "    #print(\"id      |nome                          |curso            |média \")\n",
    "    #print(\"-----------------------------------------------------\")\n",
    "    for a in bd:\n",
    "        print(a['id']+ \" | \" + a['nome']+ \" | \" +a['curso']+ \" | \" +str(sum(a['tpc'])/len(a['tpc'])))\n",
    "\n"
   ]
  },
  {
   "cell_type": "code",
   "execution_count": 6,
   "metadata": {},
   "outputs": [],
   "source": [
    "#listarDataset(BDalunos)"
   ]
  },
  {
   "cell_type": "markdown",
   "metadata": {},
   "source": [
    "## Consulta de um registo (exercício 3)\n",
    "\n",
    "Especifica uma função que, dado o id de um aluno, coloca a sua informação no monitor. Para além disso, indica também a média dos TPC realizados."
   ]
  },
  {
   "cell_type": "code",
   "execution_count": 7,
   "metadata": {},
   "outputs": [],
   "source": [
    "# Consulta de um registo\n",
    "def consultarDataset(bd, ide):\n",
    "    \n",
    "    for a in bd:\n",
    "        #print(\"TOU AQUI \",a['id'])\n",
    "        #print(str(ide))\n",
    "        if a['id'] == ide:\n",
    "            print(a['id']+ \" | \" + a['nome']+ \" | \" +a['curso']+ \" | \" +str(sum(a['tpc'])/len(a['tpc'])))\n"
   ]
  },
  {
   "cell_type": "code",
   "execution_count": 8,
   "metadata": {},
   "outputs": [
    {
     "name": "stdout",
     "output_type": "stream",
     "text": [
      "\"a1\" | \"Aysha Melanie Gilberto\" | \"LEI\" | 11.75\n"
     ]
    }
   ],
   "source": [
    "consultarDataset(BDalunos,'\"a1\"')"
   ]
  },
  {
   "cell_type": "markdown",
   "metadata": {},
   "source": [
    "## Top 10 (exercício 4)\n",
    "\n",
    "Especifica um função que dá como resultado uma lista com os alunos com as 10 médias mais altas: id, nome, curso, média."
   ]
  },
  {
   "cell_type": "code",
   "execution_count": 9,
   "metadata": {},
   "outputs": [],
   "source": [
    "def top10(bd):\n",
    "    #ordenar e ver top 10\n",
    "    lista=sorted(bd, key = lambda a: sum(a['tpc'])/len(a['tpc']),reverse=True)\n",
    "    lista10=[]\n",
    "    for a in range(0,10):\n",
    "        lista10.append(lista[a])\n",
    "    for a in lista10:\n",
    "        print(a['id']+ \" | \" + a['nome']+ \" | \" +a['curso']+ \" | \" +str(sum(a['tpc'])/len(a['tpc'])))\n",
    "    #print(lista10)\n",
    "    # Escreve aqui o teu código"
   ]
  },
  {
   "cell_type": "code",
   "execution_count": 10,
   "metadata": {},
   "outputs": [
    {
     "name": "stdout",
     "output_type": "stream",
     "text": [
      "\"a47\" | \"Moisés João Cornelio\" | \"LEI\" | 18.0\n",
      "\"a80\" | \"Maria Carolina Josué\" | \"ENGFIS\" | 18.0\n",
      "\"a32\" | \"Ariane Sofia Foja\" | \"LEI\" | 17.5\n",
      "\"a74\" | \"Vânia Sofia Porfirio\" | \"ENGBIOM\" | 17.5\n",
      "\"a56\" | \"Hakeem Brazão\" | \"LEI\" | 17.25\n",
      "\"a84\" | \"Laudário Frasão\" | \"LCC\" | 17.0\n",
      "\"a13\" | \"Daniela Patrícia Montes\" | \"ENGBIOM\" | 16.75\n",
      "\"a41\" | \"Lachezar Rosas\" | \"ENGBIOM\" | 16.75\n",
      "\"a45\" | \"Imayame Hespanha\" | \"ENGFIS\" | 16.75\n",
      "\"a2\" | \"Igor André Cantanhede\" | \"ENGFIS\" | 16.5\n"
     ]
    }
   ],
   "source": [
    "top10(BDalunos)"
   ]
  },
  {
   "cell_type": "markdown",
   "metadata": {},
   "source": [
    "## Distribuição por curso (exercício 5)\n",
    "\n",
    "Especifica uma função que dá como resultado uma lista de pares indicando quantos alunos há em cada curso."
   ]
  },
  {
   "cell_type": "code",
   "execution_count": 11,
   "metadata": {},
   "outputs": [],
   "source": [
    "def distribPorCurso(bd):\n",
    "    distribuicao = {}\n",
    "    for  a in bd:\n",
    "        if a['curso'] in dict.keys(distribuicao):\n",
    "            distribuicao[a['curso']] += 1\n",
    "        else:\n",
    "            distribuicao[a['curso']] = 1\n",
    "    return distribuicao\n",
    "    # Escreve aqui o teu código"
   ]
  },
  {
   "cell_type": "code",
   "execution_count": 12,
   "metadata": {},
   "outputs": [
    {
     "name": "stdout",
     "output_type": "stream",
     "text": [
      "{'\"LEI\"': 23, '\"ENGFIS\"': 32, '\"LCC\"': 20, '\"ENGBIOM\"': 25}\n"
     ]
    }
   ],
   "source": [
    "Dist = distribPorCurso(BDalunos)\n",
    "print(Dist)"
   ]
  },
  {
   "cell_type": "markdown",
   "metadata": {},
   "source": [
    "## Distribuição por médias (exercício 6)\n",
    "\n",
    "Especifica uma função que dá como resultado uma lista de pares, média e número de alunos com essa média (considera o valor inteiro da média)."
   ]
  },
  {
   "cell_type": "code",
   "execution_count": 13,
   "metadata": {},
   "outputs": [],
   "source": [
    "def distribPorMedia(bd):\n",
    "    distribuicao = {}\n",
    "    for  a in bd:\n",
    "        if sum(a['tpc'])/len(a['tpc']) in dict.keys(distribuicao):\n",
    "            distribuicao[sum(a['tpc'])/len(a['tpc'])] += 1\n",
    "        else:\n",
    "            distribuicao[sum(a['tpc'])/len(a['tpc'])] = 1\n",
    "    return distribuicao\n",
    "    # Escreve aqui o teu código"
   ]
  },
  {
   "cell_type": "code",
   "execution_count": 14,
   "metadata": {},
   "outputs": [
    {
     "name": "stdout",
     "output_type": "stream",
     "text": [
      "{11.75: 2, 16.5: 4, 12.75: 7, 15.5: 1, 14.25: 6, 13.5: 2, 15.75: 4, 11.5: 3, 13.0: 6, 14.0: 5, 11.0: 1, 14.75: 5, 16.75: 3, 13.25: 5, 15.25: 8, 13.75: 7, 12.25: 2, 16.0: 2, 17.5: 2, 12.5: 2, 15.0: 2, 16.25: 2, 18.0: 2, 12.0: 4, 9.75: 2, 14.5: 5, 17.25: 1, 11.25: 3, 10.75: 1, 17.0: 1}\n"
     ]
    }
   ],
   "source": [
    "Diste = distribPorMedia(BDalunos)\n",
    "print(Diste)"
   ]
  },
  {
   "cell_type": "markdown",
   "metadata": {},
   "source": [
    "# Gráficos\n",
    "\n",
    "## Gráfico da distribuição por curso (exercício 7)\n",
    "\n",
    "Especifica uma função que faz o plot dum gráfico com a distribuição de alunos por curso."
   ]
  },
  {
   "cell_type": "code",
   "execution_count": 18,
   "metadata": {
    "scrolled": true
   },
   "outputs": [
    {
     "name": "stdout",
     "output_type": "stream",
     "text": [
      "dict_keys(['\"LEI\"', '\"ENGFIS\"', '\"LCC\"', '\"ENGBIOM\"'])\n"
     ]
    },
    {
     "data": {
      "image/png": "[encoded data removed]",
      "text/plain": [
       "<Figure size 432x288 with 1 Axes>"
      ]
     },
     "metadata": {
      "needs_background": "light"
     },
     "output_type": "display_data"
    }
   ],
   "source": [
    "import matplotlib.pyplot as plt\n",
    "def plotDistribPorCurso(dc):\n",
    "    left = []\n",
    "    k=dict.keys(dc)\n",
    "    v=dict.values(dc)\n",
    "    tick_label=[]\n",
    "    height = []\n",
    "    \n",
    "    for l in range(0,4):\n",
    "        left.append(l)\n",
    "    \n",
    "    for value in v:    \n",
    "       # print(value)\n",
    "        height.append(value)\n",
    "        #print(height)\n",
    "    print(k)\n",
    "    for key in k:\n",
    "        tick_label.append(key)\n",
    "    \n",
    "    plt.bar(left, height, tick_label = tick_label, width = 0.8, color = ['blue', 'green', 'pink','orange'])\n",
    " \n",
    "\n",
    "    plt.xlabel('Cursos')\n",
    "\n",
    "    plt.ylabel('Nr de estudantes')\n",
    "\n",
    "    plt.title('O meu stock de alunos')\n",
    " \n",
    "\n",
    "    plt.show()\n",
    "plotDistribPorCurso(Dist)"
   ]
  },
  {
   "cell_type": "markdown",
   "metadata": {},
   "source": [
    "## Gráfico da distribuição por média (exercício 8)\n",
    "\n",
    "Especifica uma função que faz o plot dum gráfico com a distribuição de alunos por média."
   ]
  },
  {
   "cell_type": "code",
   "execution_count": 23,
   "metadata": {},
   "outputs": [
    {
     "data": {
      "image/png": "[encoded data removed]",
      "text/plain": [
       "<Figure size 1728x432 with 1 Axes>"
      ]
     },
     "metadata": {
      "needs_background": "light"
     },
     "output_type": "display_data"
    }
   ],
   "source": [
    "import matplotlib.pyplot as plt\n",
    "def plotDistribPorMedia(dm):\n",
    "    left = []\n",
    "    k=dict.keys(dm)\n",
    "    v=dict.values(dm)\n",
    "    tick_label=[]\n",
    "    height = []\n",
    "    \n",
    "    plt.figure(1, figsize=(24, 6))\n",
    "    \n",
    "    for l in range(0,len(dm)):\n",
    "        left.append(l)\n",
    "    \n",
    "    for value in v:    \n",
    "       # print(value)\n",
    "        height.append(value)\n",
    "        #print(height)\n",
    "    k=sorted(k)\n",
    "    for key in k:\n",
    "        tick_label.append(key)\n",
    "    \n",
    "    plt.bar(left, height, tick_label = tick_label, width = 0.3, color = ['blue', 'green', 'pink','orange','red','greenyellow','purple','cyan'])\n",
    " \n",
    "\n",
    "    plt.xlabel('média')\n",
    "\n",
    "    plt.ylabel('Nr de estudantes')\n",
    "\n",
    "    plt.title('O meu stock de médias')\n",
    " \n",
    "\n",
    "    plt.show()\n",
    "    \n",
    "plotDistribPorMedia(Diste)"
   ]
  }
 ],
 "metadata": {
  "interpreter": {
   "hash": "aee8b7b246df8f9039afb4144a1f6fd8d2ca17a180786b69acc140d282b71a49"
  },
  "kernelspec": {
   "display_name": "Python 3",
   "language": "python",
   "name": "python3"
  },
  "language_info": {
   "codemirror_mode": {
    "name": "ipython",
    "version": 3
   },
   "file_extension": ".py",
   "mimetype": "text/x-python",
   "name": "python",
   "nbconvert_exporter": "python",
   "pygments_lexer": "ipython3",
   "version": "3.8.8"
  }
 },
 "nbformat": 4,
 "nbformat_minor": 2
}
